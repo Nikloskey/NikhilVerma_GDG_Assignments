{
 "cells": [
  {
   "cell_type": "code",
   "id": "initial_id",
   "metadata": {
    "collapsed": true,
    "ExecuteTime": {
     "end_time": "2024-12-28T05:21:32.510118Z",
     "start_time": "2024-12-28T05:21:32.499058Z"
    }
   },
   "source": [
    "import pandas as pd\n",
    "import numpy as np\n",
    "from sklearn.datasets import load_iris\n",
    "from sklearn.model_selection import train_test_split\n",
    "from sklearn.preprocessing import StandardScaler\n",
    "import tensorflow as tf"
   ],
   "outputs": [],
   "execution_count": 52
  },
  {
   "metadata": {},
   "cell_type": "markdown",
   "source": "Task 1",
   "id": "cfda0575783102c0"
  },
  {
   "metadata": {
    "ExecuteTime": {
     "end_time": "2024-12-28T05:22:42.349781Z",
     "start_time": "2024-12-28T05:22:42.321583Z"
    }
   },
   "cell_type": "code",
   "source": [
    "iris = load_iris()\n",
    "x = iris.data\n",
    "y = iris.target"
   ],
   "id": "783100fa38d4a86e",
   "outputs": [],
   "execution_count": 59
  },
  {
   "metadata": {
    "ExecuteTime": {
     "end_time": "2024-12-28T05:22:45.368875Z",
     "start_time": "2024-12-28T05:22:45.345082Z"
    }
   },
   "cell_type": "code",
   "source": "x[0:5]",
   "id": "6dda5d7ef1f278f1",
   "outputs": [
    {
     "data": {
      "text/plain": [
       "array([[5.1, 3.5, 1.4, 0.2],\n",
       "       [4.9, 3. , 1.4, 0.2],\n",
       "       [4.7, 3.2, 1.3, 0.2],\n",
       "       [4.6, 3.1, 1.5, 0.2],\n",
       "       [5. , 3.6, 1.4, 0.2]])"
      ]
     },
     "execution_count": 60,
     "metadata": {},
     "output_type": "execute_result"
    }
   ],
   "execution_count": 60
  },
  {
   "metadata": {
    "ExecuteTime": {
     "end_time": "2024-12-28T05:23:18.940007Z",
     "start_time": "2024-12-28T05:23:18.926517Z"
    }
   },
   "cell_type": "code",
   "source": "x_train, x_test, y_train, y_test = train_test_split(x, y, test_size=0.2, random_state=42)",
   "id": "5e317d3b8e91228e",
   "outputs": [],
   "execution_count": 61
  },
  {
   "metadata": {
    "ExecuteTime": {
     "end_time": "2024-12-28T05:25:53.882549Z",
     "start_time": "2024-12-28T05:25:53.864528Z"
    }
   },
   "cell_type": "code",
   "source": [
    "scaler = StandardScaler()\n",
    "x_train = scaler.fit_transform(x_train)\n",
    "x_test = scaler.transform(x_test)"
   ],
   "id": "98923899aa8acc1f",
   "outputs": [],
   "execution_count": 65
  },
  {
   "metadata": {
    "ExecuteTime": {
     "end_time": "2024-12-28T05:25:57.889452Z",
     "start_time": "2024-12-28T05:25:57.875995Z"
    }
   },
   "cell_type": "code",
   "source": "x_train[0:5]",
   "id": "560f1f31f483aa4b",
   "outputs": [
    {
     "data": {
      "text/plain": [
       "array([[-1.47393679,  1.20365799, -1.56253475, -1.31260282],\n",
       "       [-0.13307079,  2.99237573, -1.27600637, -1.04563275],\n",
       "       [ 1.08589829,  0.08570939,  0.38585821,  0.28921757],\n",
       "       [-1.23014297,  0.75647855, -1.2187007 , -1.31260282],\n",
       "       [-1.7177306 ,  0.30929911, -1.39061772, -1.31260282]])"
      ]
     },
     "execution_count": 66,
     "metadata": {},
     "output_type": "execute_result"
    }
   ],
   "execution_count": 66
  },
  {
   "metadata": {
    "ExecuteTime": {
     "end_time": "2024-12-28T05:26:35.746996Z",
     "start_time": "2024-12-28T05:26:35.739127Z"
    }
   },
   "cell_type": "code",
   "source": [
    "y_train_onehot = tf.keras.utils.to_categorical(y_train)\n",
    "y_test_onehot = tf.keras.utils.to_categorical(y_test)"
   ],
   "id": "ede2fc72d37c24ba",
   "outputs": [],
   "execution_count": 67
  },
  {
   "metadata": {
    "ExecuteTime": {
     "end_time": "2024-12-28T05:26:48.056521Z",
     "start_time": "2024-12-28T05:26:48.042317Z"
    }
   },
   "cell_type": "code",
   "source": "y_train_onehot[0:5]",
   "id": "77f1883432e02283",
   "outputs": [
    {
     "data": {
      "text/plain": [
       "array([[1., 0., 0.],\n",
       "       [1., 0., 0.],\n",
       "       [0., 1., 0.],\n",
       "       [1., 0., 0.],\n",
       "       [1., 0., 0.]])"
      ]
     },
     "execution_count": 68,
     "metadata": {},
     "output_type": "execute_result"
    }
   ],
   "execution_count": 68
  },
  {
   "metadata": {
    "ExecuteTime": {
     "end_time": "2024-12-28T05:29:55.552992Z",
     "start_time": "2024-12-28T05:29:55.533947Z"
    }
   },
   "cell_type": "code",
   "source": "x_train.shape[1:]",
   "id": "e75a5eeadd84f31e",
   "outputs": [
    {
     "data": {
      "text/plain": [
       "(4,)"
      ]
     },
     "execution_count": 69,
     "metadata": {},
     "output_type": "execute_result"
    }
   ],
   "execution_count": 69
  },
  {
   "metadata": {},
   "cell_type": "markdown",
   "source": "Task 2",
   "id": "caf58b03a2c969a8"
  },
  {
   "metadata": {
    "ExecuteTime": {
     "end_time": "2024-12-28T05:37:22.141455Z",
     "start_time": "2024-12-28T05:37:22.092892Z"
    }
   },
   "cell_type": "code",
   "source": [
    "model = tf.keras.models.Sequential([\n",
    "    tf.keras.layers.Input(shape=x_train.shape[1:]),\n",
    "    tf.keras.layers.Dense(8, activation = \"relu\"),\n",
    "    tf.keras.layers.Dense(3, activation = \"softmax\"),\n",
    "])"
   ],
   "id": "7eff8eae7a54bc11",
   "outputs": [],
   "execution_count": 82
  },
  {
   "metadata": {},
   "cell_type": "markdown",
   "source": "Task 3",
   "id": "a9c116c8b4c11855"
  },
  {
   "metadata": {
    "ExecuteTime": {
     "end_time": "2024-12-28T05:37:24.225395Z",
     "start_time": "2024-12-28T05:37:24.201325Z"
    }
   },
   "cell_type": "code",
   "source": "model.compile(optimizer = \"adam\", loss = \"categorical_crossentropy\", metrics = [\"accuracy\"])",
   "id": "90f07d21f5017f3e",
   "outputs": [],
   "execution_count": 83
  },
  {
   "metadata": {
    "ExecuteTime": {
     "end_time": "2024-12-28T05:37:43.826673Z",
     "start_time": "2024-12-28T05:37:26.249555Z"
    }
   },
   "cell_type": "code",
   "source": "history = model.fit(x_train, y_train_onehot, epochs=100, batch_size=5, validation_split=0.1, verbose=1)",
   "id": "598482b1ef4d2a3b",
   "outputs": [
    {
     "name": "stdout",
     "output_type": "stream",
     "text": [
      "Epoch 1/100\n",
      "\u001B[1m22/22\u001B[0m \u001B[32m━━━━━━━━━━━━━━━━━━━━\u001B[0m\u001B[37m\u001B[0m \u001B[1m1s\u001B[0m 16ms/step - accuracy: 0.5030 - loss: 0.9246 - val_accuracy: 0.5000 - val_loss: 0.8859\n",
      "Epoch 2/100\n",
      "\u001B[1m22/22\u001B[0m \u001B[32m━━━━━━━━━━━━━━━━━━━━\u001B[0m\u001B[37m\u001B[0m \u001B[1m0s\u001B[0m 6ms/step - accuracy: 0.5423 - loss: 0.8789 - val_accuracy: 0.5000 - val_loss: 0.8611\n",
      "Epoch 3/100\n",
      "\u001B[1m22/22\u001B[0m \u001B[32m━━━━━━━━━━━━━━━━━━━━\u001B[0m\u001B[37m\u001B[0m \u001B[1m0s\u001B[0m 6ms/step - accuracy: 0.5773 - loss: 0.8456 - val_accuracy: 0.5000 - val_loss: 0.8338\n",
      "Epoch 4/100\n",
      "\u001B[1m22/22\u001B[0m \u001B[32m━━━━━━━━━━━━━━━━━━━━\u001B[0m\u001B[37m\u001B[0m \u001B[1m0s\u001B[0m 7ms/step - accuracy: 0.6202 - loss: 0.8127 - val_accuracy: 0.5833 - val_loss: 0.8071\n",
      "Epoch 5/100\n",
      "\u001B[1m22/22\u001B[0m \u001B[32m━━━━━━━━━━━━━━━━━━━━\u001B[0m\u001B[37m\u001B[0m \u001B[1m0s\u001B[0m 6ms/step - accuracy: 0.7152 - loss: 0.7608 - val_accuracy: 0.6667 - val_loss: 0.7823\n",
      "Epoch 6/100\n",
      "\u001B[1m22/22\u001B[0m \u001B[32m━━━━━━━━━━━━━━━━━━━━\u001B[0m\u001B[37m\u001B[0m \u001B[1m0s\u001B[0m 6ms/step - accuracy: 0.8113 - loss: 0.7193 - val_accuracy: 0.6667 - val_loss: 0.7595\n",
      "Epoch 7/100\n",
      "\u001B[1m22/22\u001B[0m \u001B[32m━━━━━━━━━━━━━━━━━━━━\u001B[0m\u001B[37m\u001B[0m \u001B[1m0s\u001B[0m 6ms/step - accuracy: 0.8586 - loss: 0.6663 - val_accuracy: 0.7500 - val_loss: 0.7360\n",
      "Epoch 8/100\n",
      "\u001B[1m22/22\u001B[0m \u001B[32m━━━━━━━━━━━━━━━━━━━━\u001B[0m\u001B[37m\u001B[0m \u001B[1m0s\u001B[0m 6ms/step - accuracy: 0.8368 - loss: 0.6378 - val_accuracy: 0.7500 - val_loss: 0.7161\n",
      "Epoch 9/100\n",
      "\u001B[1m22/22\u001B[0m \u001B[32m━━━━━━━━━━━━━━━━━━━━\u001B[0m\u001B[37m\u001B[0m \u001B[1m0s\u001B[0m 6ms/step - accuracy: 0.8269 - loss: 0.6040 - val_accuracy: 0.8333 - val_loss: 0.6941\n",
      "Epoch 10/100\n",
      "\u001B[1m22/22\u001B[0m \u001B[32m━━━━━━━━━━━━━━━━━━━━\u001B[0m\u001B[37m\u001B[0m \u001B[1m0s\u001B[0m 6ms/step - accuracy: 0.8518 - loss: 0.5730 - val_accuracy: 0.8333 - val_loss: 0.6724\n",
      "Epoch 11/100\n",
      "\u001B[1m22/22\u001B[0m \u001B[32m━━━━━━━━━━━━━━━━━━━━\u001B[0m\u001B[37m\u001B[0m \u001B[1m0s\u001B[0m 5ms/step - accuracy: 0.8406 - loss: 0.5592 - val_accuracy: 0.8333 - val_loss: 0.6521\n",
      "Epoch 12/100\n",
      "\u001B[1m22/22\u001B[0m \u001B[32m━━━━━━━━━━━━━━━━━━━━\u001B[0m\u001B[37m\u001B[0m \u001B[1m0s\u001B[0m 6ms/step - accuracy: 0.8253 - loss: 0.5452 - val_accuracy: 0.8333 - val_loss: 0.6305\n",
      "Epoch 13/100\n",
      "\u001B[1m22/22\u001B[0m \u001B[32m━━━━━━━━━━━━━━━━━━━━\u001B[0m\u001B[37m\u001B[0m \u001B[1m0s\u001B[0m 6ms/step - accuracy: 0.7762 - loss: 0.5304 - val_accuracy: 0.8333 - val_loss: 0.6102\n",
      "Epoch 14/100\n",
      "\u001B[1m22/22\u001B[0m \u001B[32m━━━━━━━━━━━━━━━━━━━━\u001B[0m\u001B[37m\u001B[0m \u001B[1m0s\u001B[0m 6ms/step - accuracy: 0.8593 - loss: 0.4677 - val_accuracy: 0.8333 - val_loss: 0.5911\n",
      "Epoch 15/100\n",
      "\u001B[1m22/22\u001B[0m \u001B[32m━━━━━━━━━━━━━━━━━━━━\u001B[0m\u001B[37m\u001B[0m \u001B[1m0s\u001B[0m 5ms/step - accuracy: 0.8105 - loss: 0.4619 - val_accuracy: 0.9167 - val_loss: 0.5703\n",
      "Epoch 16/100\n",
      "\u001B[1m22/22\u001B[0m \u001B[32m━━━━━━━━━━━━━━━━━━━━\u001B[0m\u001B[37m\u001B[0m \u001B[1m0s\u001B[0m 6ms/step - accuracy: 0.8286 - loss: 0.4252 - val_accuracy: 0.9167 - val_loss: 0.5504\n",
      "Epoch 17/100\n",
      "\u001B[1m22/22\u001B[0m \u001B[32m━━━━━━━━━━━━━━━━━━━━\u001B[0m\u001B[37m\u001B[0m \u001B[1m0s\u001B[0m 5ms/step - accuracy: 0.8201 - loss: 0.4342 - val_accuracy: 0.9167 - val_loss: 0.5331\n",
      "Epoch 18/100\n",
      "\u001B[1m22/22\u001B[0m \u001B[32m━━━━━━━━━━━━━━━━━━━━\u001B[0m\u001B[37m\u001B[0m \u001B[1m0s\u001B[0m 6ms/step - accuracy: 0.8351 - loss: 0.4205 - val_accuracy: 0.9167 - val_loss: 0.5165\n",
      "Epoch 19/100\n",
      "\u001B[1m22/22\u001B[0m \u001B[32m━━━━━━━━━━━━━━━━━━━━\u001B[0m\u001B[37m\u001B[0m \u001B[1m0s\u001B[0m 6ms/step - accuracy: 0.8278 - loss: 0.3681 - val_accuracy: 0.9167 - val_loss: 0.5008\n",
      "Epoch 20/100\n",
      "\u001B[1m22/22\u001B[0m \u001B[32m━━━━━━━━━━━━━━━━━━━━\u001B[0m\u001B[37m\u001B[0m \u001B[1m0s\u001B[0m 6ms/step - accuracy: 0.9068 - loss: 0.3519 - val_accuracy: 0.9167 - val_loss: 0.4859\n",
      "Epoch 21/100\n",
      "\u001B[1m22/22\u001B[0m \u001B[32m━━━━━━━━━━━━━━━━━━━━\u001B[0m\u001B[37m\u001B[0m \u001B[1m0s\u001B[0m 6ms/step - accuracy: 0.8741 - loss: 0.3383 - val_accuracy: 0.9167 - val_loss: 0.4744\n",
      "Epoch 22/100\n",
      "\u001B[1m22/22\u001B[0m \u001B[32m━━━━━━━━━━━━━━━━━━━━\u001B[0m\u001B[37m\u001B[0m \u001B[1m0s\u001B[0m 6ms/step - accuracy: 0.8492 - loss: 0.3467 - val_accuracy: 0.9167 - val_loss: 0.4639\n",
      "Epoch 23/100\n",
      "\u001B[1m22/22\u001B[0m \u001B[32m━━━━━━━━━━━━━━━━━━━━\u001B[0m\u001B[37m\u001B[0m \u001B[1m0s\u001B[0m 5ms/step - accuracy: 0.8897 - loss: 0.3234 - val_accuracy: 0.9167 - val_loss: 0.4522\n",
      "Epoch 24/100\n",
      "\u001B[1m22/22\u001B[0m \u001B[32m━━━━━━━━━━━━━━━━━━━━\u001B[0m\u001B[37m\u001B[0m \u001B[1m0s\u001B[0m 6ms/step - accuracy: 0.8571 - loss: 0.3174 - val_accuracy: 0.9167 - val_loss: 0.4417\n",
      "Epoch 25/100\n",
      "\u001B[1m22/22\u001B[0m \u001B[32m━━━━━━━━━━━━━━━━━━━━\u001B[0m\u001B[37m\u001B[0m \u001B[1m0s\u001B[0m 6ms/step - accuracy: 0.8566 - loss: 0.3247 - val_accuracy: 0.9167 - val_loss: 0.4319\n",
      "Epoch 26/100\n",
      "\u001B[1m22/22\u001B[0m \u001B[32m━━━━━━━━━━━━━━━━━━━━\u001B[0m\u001B[37m\u001B[0m \u001B[1m0s\u001B[0m 7ms/step - accuracy: 0.8707 - loss: 0.3093 - val_accuracy: 0.9167 - val_loss: 0.4227\n",
      "Epoch 27/100\n",
      "\u001B[1m22/22\u001B[0m \u001B[32m━━━━━━━━━━━━━━━━━━━━\u001B[0m\u001B[37m\u001B[0m \u001B[1m0s\u001B[0m 5ms/step - accuracy: 0.8293 - loss: 0.3051 - val_accuracy: 0.9167 - val_loss: 0.4149\n",
      "Epoch 28/100\n",
      "\u001B[1m22/22\u001B[0m \u001B[32m━━━━━━━━━━━━━━━━━━━━\u001B[0m\u001B[37m\u001B[0m \u001B[1m0s\u001B[0m 6ms/step - accuracy: 0.8885 - loss: 0.3199 - val_accuracy: 0.9167 - val_loss: 0.4056\n",
      "Epoch 29/100\n",
      "\u001B[1m22/22\u001B[0m \u001B[32m━━━━━━━━━━━━━━━━━━━━\u001B[0m\u001B[37m\u001B[0m \u001B[1m0s\u001B[0m 6ms/step - accuracy: 0.8828 - loss: 0.2883 - val_accuracy: 0.9167 - val_loss: 0.3987\n",
      "Epoch 30/100\n",
      "\u001B[1m22/22\u001B[0m \u001B[32m━━━━━━━━━━━━━━━━━━━━\u001B[0m\u001B[37m\u001B[0m \u001B[1m0s\u001B[0m 5ms/step - accuracy: 0.8647 - loss: 0.3324 - val_accuracy: 0.9167 - val_loss: 0.3922\n",
      "Epoch 31/100\n",
      "\u001B[1m22/22\u001B[0m \u001B[32m━━━━━━━━━━━━━━━━━━━━\u001B[0m\u001B[37m\u001B[0m \u001B[1m0s\u001B[0m 5ms/step - accuracy: 0.8981 - loss: 0.2771 - val_accuracy: 0.9167 - val_loss: 0.3840\n",
      "Epoch 32/100\n",
      "\u001B[1m22/22\u001B[0m \u001B[32m━━━━━━━━━━━━━━━━━━━━\u001B[0m\u001B[37m\u001B[0m \u001B[1m0s\u001B[0m 8ms/step - accuracy: 0.9341 - loss: 0.2655 - val_accuracy: 0.9167 - val_loss: 0.3791\n",
      "Epoch 33/100\n",
      "\u001B[1m22/22\u001B[0m \u001B[32m━━━━━━━━━━━━━━━━━━━━\u001B[0m\u001B[37m\u001B[0m \u001B[1m0s\u001B[0m 8ms/step - accuracy: 0.9166 - loss: 0.2730 - val_accuracy: 0.9167 - val_loss: 0.3723\n",
      "Epoch 34/100\n",
      "\u001B[1m22/22\u001B[0m \u001B[32m━━━━━━━━━━━━━━━━━━━━\u001B[0m\u001B[37m\u001B[0m \u001B[1m0s\u001B[0m 9ms/step - accuracy: 0.8755 - loss: 0.3091 - val_accuracy: 0.9167 - val_loss: 0.3678\n",
      "Epoch 35/100\n",
      "\u001B[1m22/22\u001B[0m \u001B[32m━━━━━━━━━━━━━━━━━━━━\u001B[0m\u001B[37m\u001B[0m \u001B[1m0s\u001B[0m 6ms/step - accuracy: 0.9166 - loss: 0.2882 - val_accuracy: 0.9167 - val_loss: 0.3615\n",
      "Epoch 36/100\n",
      "\u001B[1m22/22\u001B[0m \u001B[32m━━━━━━━━━━━━━━━━━━━━\u001B[0m\u001B[37m\u001B[0m \u001B[1m0s\u001B[0m 5ms/step - accuracy: 0.9228 - loss: 0.2493 - val_accuracy: 0.9167 - val_loss: 0.3558\n",
      "Epoch 37/100\n",
      "\u001B[1m22/22\u001B[0m \u001B[32m━━━━━━━━━━━━━━━━━━━━\u001B[0m\u001B[37m\u001B[0m \u001B[1m0s\u001B[0m 6ms/step - accuracy: 0.9301 - loss: 0.2295 - val_accuracy: 0.9167 - val_loss: 0.3519\n",
      "Epoch 38/100\n",
      "\u001B[1m22/22\u001B[0m \u001B[32m━━━━━━━━━━━━━━━━━━━━\u001B[0m\u001B[37m\u001B[0m \u001B[1m0s\u001B[0m 6ms/step - accuracy: 0.9368 - loss: 0.2454 - val_accuracy: 0.9167 - val_loss: 0.3491\n",
      "Epoch 39/100\n",
      "\u001B[1m22/22\u001B[0m \u001B[32m━━━━━━━━━━━━━━━━━━━━\u001B[0m\u001B[37m\u001B[0m \u001B[1m0s\u001B[0m 5ms/step - accuracy: 0.9063 - loss: 0.2571 - val_accuracy: 0.9167 - val_loss: 0.3428\n",
      "Epoch 40/100\n",
      "\u001B[1m22/22\u001B[0m \u001B[32m━━━━━━━━━━━━━━━━━━━━\u001B[0m\u001B[37m\u001B[0m \u001B[1m0s\u001B[0m 5ms/step - accuracy: 0.9149 - loss: 0.2438 - val_accuracy: 0.9167 - val_loss: 0.3386\n",
      "Epoch 41/100\n",
      "\u001B[1m22/22\u001B[0m \u001B[32m━━━━━━━━━━━━━━━━━━━━\u001B[0m\u001B[37m\u001B[0m \u001B[1m0s\u001B[0m 6ms/step - accuracy: 0.9268 - loss: 0.2486 - val_accuracy: 0.9167 - val_loss: 0.3341\n",
      "Epoch 42/100\n",
      "\u001B[1m22/22\u001B[0m \u001B[32m━━━━━━━━━━━━━━━━━━━━\u001B[0m\u001B[37m\u001B[0m \u001B[1m0s\u001B[0m 6ms/step - accuracy: 0.9342 - loss: 0.2505 - val_accuracy: 0.9167 - val_loss: 0.3296\n",
      "Epoch 43/100\n",
      "\u001B[1m22/22\u001B[0m \u001B[32m━━━━━━━━━━━━━━━━━━━━\u001B[0m\u001B[37m\u001B[0m \u001B[1m0s\u001B[0m 6ms/step - accuracy: 0.9380 - loss: 0.2370 - val_accuracy: 0.9167 - val_loss: 0.3263\n",
      "Epoch 44/100\n",
      "\u001B[1m22/22\u001B[0m \u001B[32m━━━━━━━━━━━━━━━━━━━━\u001B[0m\u001B[37m\u001B[0m \u001B[1m0s\u001B[0m 5ms/step - accuracy: 0.9590 - loss: 0.2262 - val_accuracy: 0.9167 - val_loss: 0.3229\n",
      "Epoch 45/100\n",
      "\u001B[1m22/22\u001B[0m \u001B[32m━━━━━━━━━━━━━━━━━━━━\u001B[0m\u001B[37m\u001B[0m \u001B[1m0s\u001B[0m 5ms/step - accuracy: 0.9150 - loss: 0.2597 - val_accuracy: 0.9167 - val_loss: 0.3184\n",
      "Epoch 46/100\n",
      "\u001B[1m22/22\u001B[0m \u001B[32m━━━━━━━━━━━━━━━━━━━━\u001B[0m\u001B[37m\u001B[0m \u001B[1m0s\u001B[0m 6ms/step - accuracy: 0.9222 - loss: 0.2501 - val_accuracy: 0.9167 - val_loss: 0.3145\n",
      "Epoch 47/100\n",
      "\u001B[1m22/22\u001B[0m \u001B[32m━━━━━━━━━━━━━━━━━━━━\u001B[0m\u001B[37m\u001B[0m \u001B[1m0s\u001B[0m 6ms/step - accuracy: 0.9590 - loss: 0.2282 - val_accuracy: 0.9167 - val_loss: 0.3095\n",
      "Epoch 48/100\n",
      "\u001B[1m22/22\u001B[0m \u001B[32m━━━━━━━━━━━━━━━━━━━━\u001B[0m\u001B[37m\u001B[0m \u001B[1m0s\u001B[0m 5ms/step - accuracy: 0.9666 - loss: 0.1925 - val_accuracy: 0.9167 - val_loss: 0.3056\n",
      "Epoch 49/100\n",
      "\u001B[1m22/22\u001B[0m \u001B[32m━━━━━━━━━━━━━━━━━━━━\u001B[0m\u001B[37m\u001B[0m \u001B[1m0s\u001B[0m 5ms/step - accuracy: 0.9395 - loss: 0.2224 - val_accuracy: 0.9167 - val_loss: 0.3049\n",
      "Epoch 50/100\n",
      "\u001B[1m22/22\u001B[0m \u001B[32m━━━━━━━━━━━━━━━━━━━━\u001B[0m\u001B[37m\u001B[0m \u001B[1m0s\u001B[0m 5ms/step - accuracy: 0.9526 - loss: 0.1898 - val_accuracy: 0.9167 - val_loss: 0.3018\n",
      "Epoch 51/100\n",
      "\u001B[1m22/22\u001B[0m \u001B[32m━━━━━━━━━━━━━━━━━━━━\u001B[0m\u001B[37m\u001B[0m \u001B[1m0s\u001B[0m 5ms/step - accuracy: 0.9634 - loss: 0.2046 - val_accuracy: 0.9167 - val_loss: 0.2970\n",
      "Epoch 52/100\n",
      "\u001B[1m22/22\u001B[0m \u001B[32m━━━━━━━━━━━━━━━━━━━━\u001B[0m\u001B[37m\u001B[0m \u001B[1m0s\u001B[0m 5ms/step - accuracy: 0.9785 - loss: 0.1795 - val_accuracy: 0.9167 - val_loss: 0.2935\n",
      "Epoch 53/100\n",
      "\u001B[1m22/22\u001B[0m \u001B[32m━━━━━━━━━━━━━━━━━━━━\u001B[0m\u001B[37m\u001B[0m \u001B[1m0s\u001B[0m 5ms/step - accuracy: 0.9646 - loss: 0.2173 - val_accuracy: 0.9167 - val_loss: 0.2919\n",
      "Epoch 54/100\n",
      "\u001B[1m22/22\u001B[0m \u001B[32m━━━━━━━━━━━━━━━━━━━━\u001B[0m\u001B[37m\u001B[0m \u001B[1m0s\u001B[0m 5ms/step - accuracy: 0.9807 - loss: 0.1831 - val_accuracy: 0.9167 - val_loss: 0.2901\n",
      "Epoch 55/100\n",
      "\u001B[1m22/22\u001B[0m \u001B[32m━━━━━━━━━━━━━━━━━━━━\u001B[0m\u001B[37m\u001B[0m \u001B[1m0s\u001B[0m 6ms/step - accuracy: 0.9852 - loss: 0.1749 - val_accuracy: 0.9167 - val_loss: 0.2863\n",
      "Epoch 56/100\n",
      "\u001B[1m22/22\u001B[0m \u001B[32m━━━━━━━━━━━━━━━━━━━━\u001B[0m\u001B[37m\u001B[0m \u001B[1m0s\u001B[0m 6ms/step - accuracy: 0.9856 - loss: 0.1783 - val_accuracy: 0.9167 - val_loss: 0.2838\n",
      "Epoch 57/100\n",
      "\u001B[1m22/22\u001B[0m \u001B[32m━━━━━━━━━━━━━━━━━━━━\u001B[0m\u001B[37m\u001B[0m \u001B[1m0s\u001B[0m 5ms/step - accuracy: 0.9572 - loss: 0.2302 - val_accuracy: 0.9167 - val_loss: 0.2811\n",
      "Epoch 58/100\n",
      "\u001B[1m22/22\u001B[0m \u001B[32m━━━━━━━━━━━━━━━━━━━━\u001B[0m\u001B[37m\u001B[0m \u001B[1m0s\u001B[0m 6ms/step - accuracy: 0.9683 - loss: 0.1724 - val_accuracy: 0.9167 - val_loss: 0.2771\n",
      "Epoch 59/100\n",
      "\u001B[1m22/22\u001B[0m \u001B[32m━━━━━━━━━━━━━━━━━━━━\u001B[0m\u001B[37m\u001B[0m \u001B[1m0s\u001B[0m 5ms/step - accuracy: 0.9795 - loss: 0.2030 - val_accuracy: 0.9167 - val_loss: 0.2750\n",
      "Epoch 60/100\n",
      "\u001B[1m22/22\u001B[0m \u001B[32m━━━━━━━━━━━━━━━━━━━━\u001B[0m\u001B[37m\u001B[0m \u001B[1m0s\u001B[0m 6ms/step - accuracy: 0.9728 - loss: 0.1700 - val_accuracy: 0.9167 - val_loss: 0.2746\n",
      "Epoch 61/100\n",
      "\u001B[1m22/22\u001B[0m \u001B[32m━━━━━━━━━━━━━━━━━━━━\u001B[0m\u001B[37m\u001B[0m \u001B[1m0s\u001B[0m 6ms/step - accuracy: 0.9672 - loss: 0.1813 - val_accuracy: 0.9167 - val_loss: 0.2682\n",
      "Epoch 62/100\n",
      "\u001B[1m22/22\u001B[0m \u001B[32m━━━━━━━━━━━━━━━━━━━━\u001B[0m\u001B[37m\u001B[0m \u001B[1m0s\u001B[0m 5ms/step - accuracy: 0.9730 - loss: 0.1579 - val_accuracy: 0.9167 - val_loss: 0.2674\n",
      "Epoch 63/100\n",
      "\u001B[1m22/22\u001B[0m \u001B[32m━━━━━━━━━━━━━━━━━━━━\u001B[0m\u001B[37m\u001B[0m \u001B[1m0s\u001B[0m 5ms/step - accuracy: 0.9783 - loss: 0.1708 - val_accuracy: 0.9167 - val_loss: 0.2641\n",
      "Epoch 64/100\n",
      "\u001B[1m22/22\u001B[0m \u001B[32m━━━━━━━━━━━━━━━━━━━━\u001B[0m\u001B[37m\u001B[0m \u001B[1m0s\u001B[0m 6ms/step - accuracy: 0.9842 - loss: 0.1430 - val_accuracy: 0.9167 - val_loss: 0.2635\n",
      "Epoch 65/100\n",
      "\u001B[1m22/22\u001B[0m \u001B[32m━━━━━━━━━━━━━━━━━━━━\u001B[0m\u001B[37m\u001B[0m \u001B[1m0s\u001B[0m 5ms/step - accuracy: 0.9785 - loss: 0.1761 - val_accuracy: 0.9167 - val_loss: 0.2634\n",
      "Epoch 66/100\n",
      "\u001B[1m22/22\u001B[0m \u001B[32m━━━━━━━━━━━━━━━━━━━━\u001B[0m\u001B[37m\u001B[0m \u001B[1m0s\u001B[0m 5ms/step - accuracy: 0.9581 - loss: 0.1711 - val_accuracy: 0.9167 - val_loss: 0.2583\n",
      "Epoch 67/100\n",
      "\u001B[1m22/22\u001B[0m \u001B[32m━━━━━━━━━━━━━━━━━━━━\u001B[0m\u001B[37m\u001B[0m \u001B[1m0s\u001B[0m 5ms/step - accuracy: 0.9768 - loss: 0.1375 - val_accuracy: 0.9167 - val_loss: 0.2552\n",
      "Epoch 68/100\n",
      "\u001B[1m22/22\u001B[0m \u001B[32m━━━━━━━━━━━━━━━━━━━━\u001B[0m\u001B[37m\u001B[0m \u001B[1m0s\u001B[0m 5ms/step - accuracy: 0.9237 - loss: 0.1689 - val_accuracy: 0.9167 - val_loss: 0.2542\n",
      "Epoch 69/100\n",
      "\u001B[1m22/22\u001B[0m \u001B[32m━━━━━━━━━━━━━━━━━━━━\u001B[0m\u001B[37m\u001B[0m \u001B[1m0s\u001B[0m 6ms/step - accuracy: 0.9756 - loss: 0.1464 - val_accuracy: 0.9167 - val_loss: 0.2492\n",
      "Epoch 70/100\n",
      "\u001B[1m22/22\u001B[0m \u001B[32m━━━━━━━━━━━━━━━━━━━━\u001B[0m\u001B[37m\u001B[0m \u001B[1m0s\u001B[0m 6ms/step - accuracy: 0.9709 - loss: 0.1455 - val_accuracy: 0.9167 - val_loss: 0.2514\n",
      "Epoch 71/100\n",
      "\u001B[1m22/22\u001B[0m \u001B[32m━━━━━━━━━━━━━━━━━━━━\u001B[0m\u001B[37m\u001B[0m \u001B[1m0s\u001B[0m 6ms/step - accuracy: 0.9484 - loss: 0.1731 - val_accuracy: 0.9167 - val_loss: 0.2494\n",
      "Epoch 72/100\n",
      "\u001B[1m22/22\u001B[0m \u001B[32m━━━━━━━━━━━━━━━━━━━━\u001B[0m\u001B[37m\u001B[0m \u001B[1m0s\u001B[0m 5ms/step - accuracy: 0.9426 - loss: 0.1907 - val_accuracy: 0.9167 - val_loss: 0.2457\n",
      "Epoch 73/100\n",
      "\u001B[1m22/22\u001B[0m \u001B[32m━━━━━━━━━━━━━━━━━━━━\u001B[0m\u001B[37m\u001B[0m \u001B[1m0s\u001B[0m 5ms/step - accuracy: 0.9791 - loss: 0.1575 - val_accuracy: 0.9167 - val_loss: 0.2430\n",
      "Epoch 74/100\n",
      "\u001B[1m22/22\u001B[0m \u001B[32m━━━━━━━━━━━━━━━━━━━━\u001B[0m\u001B[37m\u001B[0m \u001B[1m0s\u001B[0m 8ms/step - accuracy: 0.9832 - loss: 0.1623 - val_accuracy: 0.9167 - val_loss: 0.2411\n",
      "Epoch 75/100\n",
      "\u001B[1m22/22\u001B[0m \u001B[32m━━━━━━━━━━━━━━━━━━━━\u001B[0m\u001B[37m\u001B[0m \u001B[1m0s\u001B[0m 7ms/step - accuracy: 0.9818 - loss: 0.1133 - val_accuracy: 0.9167 - val_loss: 0.2405\n",
      "Epoch 76/100\n",
      "\u001B[1m22/22\u001B[0m \u001B[32m━━━━━━━━━━━━━━━━━━━━\u001B[0m\u001B[37m\u001B[0m \u001B[1m0s\u001B[0m 8ms/step - accuracy: 0.9784 - loss: 0.1309 - val_accuracy: 0.9167 - val_loss: 0.2374\n",
      "Epoch 77/100\n",
      "\u001B[1m22/22\u001B[0m \u001B[32m━━━━━━━━━━━━━━━━━━━━\u001B[0m\u001B[37m\u001B[0m \u001B[1m0s\u001B[0m 7ms/step - accuracy: 0.9716 - loss: 0.1393 - val_accuracy: 0.9167 - val_loss: 0.2370\n",
      "Epoch 78/100\n",
      "\u001B[1m22/22\u001B[0m \u001B[32m━━━━━━━━━━━━━━━━━━━━\u001B[0m\u001B[37m\u001B[0m \u001B[1m0s\u001B[0m 5ms/step - accuracy: 0.9381 - loss: 0.1502 - val_accuracy: 0.9167 - val_loss: 0.2355\n",
      "Epoch 79/100\n",
      "\u001B[1m22/22\u001B[0m \u001B[32m━━━━━━━━━━━━━━━━━━━━\u001B[0m\u001B[37m\u001B[0m \u001B[1m0s\u001B[0m 6ms/step - accuracy: 0.9701 - loss: 0.1425 - val_accuracy: 0.9167 - val_loss: 0.2317\n",
      "Epoch 80/100\n",
      "\u001B[1m22/22\u001B[0m \u001B[32m━━━━━━━━━━━━━━━━━━━━\u001B[0m\u001B[37m\u001B[0m \u001B[1m0s\u001B[0m 6ms/step - accuracy: 0.9434 - loss: 0.1621 - val_accuracy: 0.9167 - val_loss: 0.2303\n",
      "Epoch 81/100\n",
      "\u001B[1m22/22\u001B[0m \u001B[32m━━━━━━━━━━━━━━━━━━━━\u001B[0m\u001B[37m\u001B[0m \u001B[1m0s\u001B[0m 6ms/step - accuracy: 0.9574 - loss: 0.1609 - val_accuracy: 0.9167 - val_loss: 0.2281\n",
      "Epoch 82/100\n",
      "\u001B[1m22/22\u001B[0m \u001B[32m━━━━━━━━━━━━━━━━━━━━\u001B[0m\u001B[37m\u001B[0m \u001B[1m0s\u001B[0m 7ms/step - accuracy: 0.9784 - loss: 0.1295 - val_accuracy: 0.9167 - val_loss: 0.2249\n",
      "Epoch 83/100\n",
      "\u001B[1m22/22\u001B[0m \u001B[32m━━━━━━━━━━━━━━━━━━━━\u001B[0m\u001B[37m\u001B[0m \u001B[1m0s\u001B[0m 5ms/step - accuracy: 0.9705 - loss: 0.1194 - val_accuracy: 0.9167 - val_loss: 0.2248\n",
      "Epoch 84/100\n",
      "\u001B[1m22/22\u001B[0m \u001B[32m━━━━━━━━━━━━━━━━━━━━\u001B[0m\u001B[37m\u001B[0m \u001B[1m0s\u001B[0m 5ms/step - accuracy: 0.9255 - loss: 0.1680 - val_accuracy: 0.9167 - val_loss: 0.2263\n",
      "Epoch 85/100\n",
      "\u001B[1m22/22\u001B[0m \u001B[32m━━━━━━━━━━━━━━━━━━━━\u001B[0m\u001B[37m\u001B[0m \u001B[1m0s\u001B[0m 5ms/step - accuracy: 0.9635 - loss: 0.1475 - val_accuracy: 0.9167 - val_loss: 0.2219\n",
      "Epoch 86/100\n",
      "\u001B[1m22/22\u001B[0m \u001B[32m━━━━━━━━━━━━━━━━━━━━\u001B[0m\u001B[37m\u001B[0m \u001B[1m0s\u001B[0m 5ms/step - accuracy: 0.9750 - loss: 0.1438 - val_accuracy: 0.9167 - val_loss: 0.2196\n",
      "Epoch 87/100\n",
      "\u001B[1m22/22\u001B[0m \u001B[32m━━━━━━━━━━━━━━━━━━━━\u001B[0m\u001B[37m\u001B[0m \u001B[1m0s\u001B[0m 6ms/step - accuracy: 0.9587 - loss: 0.1191 - val_accuracy: 0.9167 - val_loss: 0.2202\n",
      "Epoch 88/100\n",
      "\u001B[1m22/22\u001B[0m \u001B[32m━━━━━━━━━━━━━━━━━━━━\u001B[0m\u001B[37m\u001B[0m \u001B[1m0s\u001B[0m 6ms/step - accuracy: 0.9545 - loss: 0.1537 - val_accuracy: 0.9167 - val_loss: 0.2177\n",
      "Epoch 89/100\n",
      "\u001B[1m22/22\u001B[0m \u001B[32m━━━━━━━━━━━━━━━━━━━━\u001B[0m\u001B[37m\u001B[0m \u001B[1m0s\u001B[0m 5ms/step - accuracy: 0.9651 - loss: 0.1163 - val_accuracy: 0.9167 - val_loss: 0.2174\n",
      "Epoch 90/100\n",
      "\u001B[1m22/22\u001B[0m \u001B[32m━━━━━━━━━━━━━━━━━━━━\u001B[0m\u001B[37m\u001B[0m \u001B[1m0s\u001B[0m 5ms/step - accuracy: 0.9459 - loss: 0.1333 - val_accuracy: 0.9167 - val_loss: 0.2157\n",
      "Epoch 91/100\n",
      "\u001B[1m22/22\u001B[0m \u001B[32m━━━━━━━━━━━━━━━━━━━━\u001B[0m\u001B[37m\u001B[0m \u001B[1m0s\u001B[0m 5ms/step - accuracy: 0.9829 - loss: 0.1194 - val_accuracy: 0.9167 - val_loss: 0.2113\n",
      "Epoch 92/100\n",
      "\u001B[1m22/22\u001B[0m \u001B[32m━━━━━━━━━━━━━━━━━━━━\u001B[0m\u001B[37m\u001B[0m \u001B[1m0s\u001B[0m 5ms/step - accuracy: 0.9594 - loss: 0.1331 - val_accuracy: 0.9167 - val_loss: 0.2104\n",
      "Epoch 93/100\n",
      "\u001B[1m22/22\u001B[0m \u001B[32m━━━━━━━━━━━━━━━━━━━━\u001B[0m\u001B[37m\u001B[0m \u001B[1m0s\u001B[0m 5ms/step - accuracy: 0.9605 - loss: 0.0985 - val_accuracy: 0.9167 - val_loss: 0.2074\n",
      "Epoch 94/100\n",
      "\u001B[1m22/22\u001B[0m \u001B[32m━━━━━━━━━━━━━━━━━━━━\u001B[0m\u001B[37m\u001B[0m \u001B[1m0s\u001B[0m 6ms/step - accuracy: 0.9689 - loss: 0.1205 - val_accuracy: 0.9167 - val_loss: 0.2087\n",
      "Epoch 95/100\n",
      "\u001B[1m22/22\u001B[0m \u001B[32m━━━━━━━━━━━━━━━━━━━━\u001B[0m\u001B[37m\u001B[0m \u001B[1m0s\u001B[0m 6ms/step - accuracy: 0.9566 - loss: 0.1294 - val_accuracy: 0.9167 - val_loss: 0.2086\n",
      "Epoch 96/100\n",
      "\u001B[1m22/22\u001B[0m \u001B[32m━━━━━━━━━━━━━━━━━━━━\u001B[0m\u001B[37m\u001B[0m \u001B[1m0s\u001B[0m 5ms/step - accuracy: 0.9742 - loss: 0.1166 - val_accuracy: 0.9167 - val_loss: 0.2063\n",
      "Epoch 97/100\n",
      "\u001B[1m22/22\u001B[0m \u001B[32m━━━━━━━━━━━━━━━━━━━━\u001B[0m\u001B[37m\u001B[0m \u001B[1m0s\u001B[0m 5ms/step - accuracy: 0.9832 - loss: 0.0968 - val_accuracy: 0.9167 - val_loss: 0.2030\n",
      "Epoch 98/100\n",
      "\u001B[1m22/22\u001B[0m \u001B[32m━━━━━━━━━━━━━━━━━━━━\u001B[0m\u001B[37m\u001B[0m \u001B[1m0s\u001B[0m 5ms/step - accuracy: 0.9701 - loss: 0.1036 - val_accuracy: 0.9167 - val_loss: 0.2029\n",
      "Epoch 99/100\n",
      "\u001B[1m22/22\u001B[0m \u001B[32m━━━━━━━━━━━━━━━━━━━━\u001B[0m\u001B[37m\u001B[0m \u001B[1m0s\u001B[0m 7ms/step - accuracy: 0.9431 - loss: 0.1363 - val_accuracy: 0.9167 - val_loss: 0.2042\n",
      "Epoch 100/100\n",
      "\u001B[1m22/22\u001B[0m \u001B[32m━━━━━━━━━━━━━━━━━━━━\u001B[0m\u001B[37m\u001B[0m \u001B[1m0s\u001B[0m 6ms/step - accuracy: 0.9229 - loss: 0.1390 - val_accuracy: 0.9167 - val_loss: 0.2031\n"
     ]
    }
   ],
   "execution_count": 84
  },
  {
   "metadata": {},
   "cell_type": "markdown",
   "source": "Task 4",
   "id": "d78ac9f309ae7c28"
  },
  {
   "metadata": {
    "ExecuteTime": {
     "end_time": "2024-12-28T05:38:28.110275Z",
     "start_time": "2024-12-28T05:38:27.878667Z"
    }
   },
   "cell_type": "code",
   "source": [
    "loss, accuracy = model.evaluate(x_test, y_test_onehot, verbose=0)\n",
    "print(f\"Test Loss: {loss:.4f}\")\n",
    "print(f\"Test Accuracy: {accuracy:.4f}\")"
   ],
   "id": "999f0c8b141ae28",
   "outputs": [
    {
     "name": "stdout",
     "output_type": "stream",
     "text": [
      "Test Loss: 0.0993\n",
      "Test Accuracy: 0.9667\n"
     ]
    }
   ],
   "execution_count": 85
  },
  {
   "metadata": {},
   "cell_type": "code",
   "outputs": [],
   "execution_count": null,
   "source": "",
   "id": "35541487c2c96e1f"
  }
 ],
 "metadata": {
  "kernelspec": {
   "display_name": "Python 3",
   "language": "python",
   "name": "python3"
  },
  "language_info": {
   "codemirror_mode": {
    "name": "ipython",
    "version": 2
   },
   "file_extension": ".py",
   "mimetype": "text/x-python",
   "name": "python",
   "nbconvert_exporter": "python",
   "pygments_lexer": "ipython2",
   "version": "2.7.6"
  }
 },
 "nbformat": 4,
 "nbformat_minor": 5
}
